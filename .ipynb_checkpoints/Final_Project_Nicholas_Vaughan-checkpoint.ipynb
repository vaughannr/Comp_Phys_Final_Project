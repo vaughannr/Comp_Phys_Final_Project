{
 "cells": [
  {
   "cell_type": "markdown",
   "metadata": {},
   "source": [
    "# Final Project - Nicholas Vaughan\n",
    "## -Double Pendulum\n",
    "\n",
    "### Introduction"
   ]
  },
  {
   "cell_type": "markdown",
   "metadata": {},
   "source": [
    "## Equations of motion\n",
    "First, we set up our system: Our double pendulum is that of two point masses dangling from the origin m1 dangles on a massless rod of length $l_1$, while the second mass dangles from the first on a rod of length $l_2$. The Lagrangian for such a system is:\n",
    "\n",
    "$L = T - V = (\\frac{m_1}{2} + \\frac{m_2}{2})l_1^2\\dot{\\theta_1}^2 + \\frac{m_2}{2}l_2^2\\dot{\\theta_2}^2 + m_2l_1l_2\\dot{\\theta_1}\\dot{\\theta_2}\\cos(\\theta_1-\\theta_2) + (m_1 + m_2)gl_1\\cos{\\theta_1} + m_2gl_2\\cos{\\theta_2}$\n",
    "\n",
    "This Lagrangian yields the system of equations:\n",
    "\n",
    "$(m_1 + m_2)l_1\\ddot{\\theta_1} + m_2l_2\\ddot{\\theta_2}\\cos(\\theta_1 - \\theta_2) + m_2l_2\\dot{\\theta_2}^2(m_1 + m_2)g\\sin{\\theta_1} = 0$\n",
    "\n",
    "And\n",
    "\n",
    "$l_2\\ddot{\\theta_2} + l_1\\ddot{\\theta_1}\\cos{(\\theta_1 - \\theta_2)} - l_1\\dot{\\theta_1}^2\\sin{(\\theta_1 - \\theta_2)} + g\\sin{\\theta_2} = 0$"
   ]
  },
  {
   "cell_type": "code",
   "execution_count": null,
   "metadata": {},
   "outputs": [],
   "source": [
    "def CalculatePath(theta1_0, theta2_0, omega1_0, omega2_0,  t):\n",
    "    \"\"\"\n",
    "    \"\"\"\n",
    "    \n",
    "    #Intitialize arrays"
   ]
  }
 ],
 "metadata": {
  "kernelspec": {
   "display_name": "Python 3",
   "language": "python",
   "name": "python3"
  },
  "language_info": {
   "codemirror_mode": {
    "name": "ipython",
    "version": 3
   },
   "file_extension": ".py",
   "mimetype": "text/x-python",
   "name": "python",
   "nbconvert_exporter": "python",
   "pygments_lexer": "ipython3",
   "version": "3.8.6"
  }
 },
 "nbformat": 4,
 "nbformat_minor": 4
}
